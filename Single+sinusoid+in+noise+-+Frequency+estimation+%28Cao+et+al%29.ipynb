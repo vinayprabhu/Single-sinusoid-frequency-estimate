{
 "cells": [
  {
   "cell_type": "code",
   "execution_count": 1,
   "metadata": {
    "collapsed": true
   },
   "outputs": [],
   "source": [
    "%matplotlib notebook\n",
    "%matplotlib inline"
   ]
  },
  {
   "cell_type": "code",
   "execution_count": 2,
   "metadata": {},
   "outputs": [],
   "source": [
    "# The autocorrelation function:\n",
    "def r_auto(x,t):\n",
    "    N=len(x)\n",
    "    if (t<0) | (t>(N-1)):\n",
    "        print ('Auto-correlated lag t outside allowed range')\n",
    "        r_t=np.nan\n",
    "    else:\n",
    "        r_t=(np.dot(x[0:N-t],x[t:N]))/(N-t)\n",
    "    return r_t\n"
   ]
  },
  {
   "cell_type": "code",
   "execution_count": 3,
   "metadata": {},
   "outputs": [
    {
     "name": "stdout",
     "output_type": "stream",
     "text": [
      "The actual freq of the sinusoid is 4 Hz\n",
      "The rough estimate of the sinusoid is 4.02404623619\n",
      "The correction to the rough estimate of the freq of the sinusoid is 0.00182166469216\n",
      "The final estimate of the freq of the sinusoid is 4.02586790088\n"
     ]
    },
    {
     "data": {
      "image/png": "[encoded data removed]",
      "text/plain": [
       "<matplotlib.figure.Figure at 0x16d710c29e8>"
      ]
     },
     "metadata": {},
     "output_type": "display_data"
    }
   ],
   "source": [
    "a=1\n",
    "N=100\n",
    "f_0=np.random.randint(2,5)\n",
    "print('The actual freq of the sinusoid is '+str(f_0) + ' Hz')\n",
    "n_vec=np.linspace(0,1-1/N,N)\n",
    "noise_vec=0.01*np.random.randn(N)\n",
    "\n",
    "x=a*np.cos(2*np.pi*f_0*n_vec)+noise_vec\n",
    "\n",
    "plt.plot(x)\n",
    "\n",
    "############################################\n",
    "# Estimate the rough frequency estimate ($w_1$):\n",
    "############################################\n",
    "num,den=0,0\n",
    "l_1=0\n",
    "l_2=N-3\n",
    "for n in range(l_1,l_2-2):\n",
    "    num+= r_auto(x,n+1)*(r_auto(x,n)+r_auto(x,n+2))\n",
    "    den+=r_auto(x,n+1)**2\n",
    "w_1=np.arccos(num/(2*den))\n",
    "f_rough=w_1*N/(2*np.pi)\n",
    "print('The rough estimate of the sinusoid is '+str(f_rough))\n",
    "\n",
    "############################################\n",
    "# Estimate the correction offset to get a finer grained estimate ($\\mu$):\n",
    "############################################\n",
    "a_00,a_01,d_0,d_1=0,0,0,0\n",
    "for n in range(l_1,l_2+1):\n",
    "    a_00+=r_auto(x,n)**2\n",
    "    a_01+=n*np.sin(w_1*n)*r_auto(x,n)\n",
    "    d_0+=np.cos(w_1*n)*r_auto(x,n)\n",
    "    d_1+=n*np.cos(w_1*n)*np.sin(w_1*n)*r_auto(x,n)\n",
    "a_10=a_01\n",
    "n_v=np.arange(l_1,l_2+1)\n",
    "a_11=np.dot(n_v**2,(np.sin(w_1*n_v))**2)\n",
    "mu_est=(d_1*a_00-d_0*a_10)/(a_11*a_00-a_01*a_10)\n",
    "print('The correction to the rough estimate of the freq of the sinusoid is '+str(mu_est))\n",
    "f_fine=f_rough+mu_est\n",
    "print('The final estimate of the freq of the sinusoid is '+str(f_fine))"
   ]
  }
 ],
 "metadata": {
  "kernelspec": {
   "display_name": "Python 3",
   "language": "python",
   "name": "python3"
  },
  "language_info": {
   "codemirror_mode": {
    "name": "ipython",
    "version": 3
   },
   "file_extension": ".py",
   "mimetype": "text/x-python",
   "name": "python",
   "nbconvert_exporter": "python",
   "pygments_lexer": "ipython3",
   "version": "3.6.3"
  },
  "latex_envs": {
   "LaTeX_envs_menu_present": true,
   "autoclose": false,
   "autocomplete": true,
   "bibliofile": "biblio.bib",
   "cite_by": "apalike",
   "current_citInitial": 1,
   "eqLabelWithNumbers": true,
   "eqNumInitial": 1,
   "hotkeys": {
    "equation": "Ctrl-E",
    "itemize": "Ctrl-I"
   },
   "labels_anchors": false,
   "latex_user_defs": false,
   "report_style_numbering": false,
   "user_envs_cfg": false
  },
  "nbTranslate": {
   "displayLangs": [
    "*"
   ],
   "hotkey": "alt-t",
   "langInMainMenu": true,
   "sourceLang": "en",
   "targetLang": "fr",
   "useGoogleTranslate": true
  },
  "varInspector": {
   "cols": {
    "lenName": 16,
    "lenType": 16,
    "lenVar": 40
   },
   "kernels_config": {
    "python": {
     "delete_cmd_postfix": "",
     "delete_cmd_prefix": "del ",
     "library": "var_list.py",
     "varRefreshCmd": "print(var_dic_list())"
    },
    "r": {
     "delete_cmd_postfix": ") ",
     "delete_cmd_prefix": "rm(",
     "library": "var_list.r",
     "varRefreshCmd": "cat(var_dic_list()) "
    }
   },
   "types_to_exclude": [
    "module",
    "function",
    "builtin_function_or_method",
    "instance",
    "_Feature"
   ],
   "window_display": false
  }
 },
 "nbformat": 4,
 "nbformat_minor": 2
}
